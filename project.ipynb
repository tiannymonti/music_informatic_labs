{
  "nbformat": 4,
  "nbformat_minor": 5,
  "metadata": {
    "kernelspec": {
      "display_name": "Python 3",
      "language": "python",
      "name": "python3"
    },
    "language_info": {
      "codemirror_mode": {
        "name": "ipython",
        "version": 3
      },
      "file_extension": ".py",
      "mimetype": "text/x-python",
      "name": "python",
      "nbconvert_exporter": "python",
      "pygments_lexer": "ipython3",
      "version": "3.8.8"
    },
    "colab": {
      "name": "project.ipynb",
      "provenance": [],
      "collapsed_sections": [],
      "include_colab_link": true
    }
  },
  "cells": [
    {
      "cell_type": "markdown",
      "metadata": {
        "id": "view-in-github",
        "colab_type": "text"
      },
      "source": [
        "<a href=\"https://colab.research.google.com/github/tiannymonti/music_informatic_labs/blob/main/project.ipynb\" target=\"_parent\"><img src=\"https://colab.research.google.com/assets/colab-badge.svg\" alt=\"Open In Colab\"/></a>"
      ]
    },
    {
      "cell_type": "markdown",
      "metadata": {
        "id": "a901b814"
      },
      "source": [
        "# Project\n",
        "\n",
        "## General idea:\n",
        "Given two songs, an original and a sampled one, we can find what has been taken and where it has been placed\n",
        "\n",
        "### Part 1 \n",
        "- Let's start with covers instead of samples\n",
        "- Convert any wav to samples\n",
        "- Delimit music features to use ()\n",
        "\n",
        "### Part 2\n",
        "- Compare music features between songs\n",
        "- Check where in the song features are similar (timestamps)\n",
        "\n",
        "Methods: audio matching with fingerprints? DTW?\n",
        "\n",
        "### Part 3\n",
        "- Instead of covers use sampled songs\n",
        "- Automation, make functions to repeat this with any song\n",
        "\n",
        "### References\n",
        "\n",
        "http://www.eurasip.org/Proceedings/Eusipco/Eusipco2012/Conference/papers/1569556475.pdf\n",
        "\n",
        "http://cmmr2012.eecs.qmul.ac.uk/sites/cmmr2012.eecs.qmul.ac.uk/files/pdf/papers/cmmr2012_submission_19.pdf\n",
        "\n",
        "Master thesis: http://mtg.upf.edu/system/files/publications/Van-Balen-Jan-Master-thesis-2011_1.pdf\n",
        "\n",
        "https://musicinformatics.gatech.edu/wp-content_nondefault/uploads/2017/07/Gururani_Lerch_2017_Automatic-Sample-Detection-in-Polyphonic-Music.pdf"
      ],
      "id": "a901b814"
    },
    {
      "cell_type": "code",
      "metadata": {
        "id": "3d1a85df"
      },
      "source": [
        ""
      ],
      "id": "3d1a85df",
      "execution_count": null,
      "outputs": []
    }
  ]
}