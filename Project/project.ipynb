{
 "cells": [
  {
   "cell_type": "markdown",
   "id": "a901b814",
   "metadata": {},
   "source": [
    "# Project\n",
    "\n",
    "## General idea:\n",
    "Given two songs, an original and a sampled one, we can find what has been taken and where it has been placed.\n",
    "\n",
    "## Method:\n",
    "Fingerprint: split music into 1-second segments. find matches among pairs of segments.\n",
    "\n",
    "### Part 1 \n",
    "- Convert any wav to samples\n",
    "- Delimit music features to use ()\n",
    "\n",
    "### Part 2\n",
    "- Compare music features between songs\n",
    "- Check where in the song features are similar (timestamps)\n",
    "\n",
    "Methods: audio matching with fingerprints? DTW?\n",
    "\n",
    "### Part 3\n",
    "- Automation, make functions to repeat this with any song\n",
    "\n",
    "### References\n",
    "\n",
    "http://www.eurasip.org/Proceedings/Eusipco/Eusipco2012/Conference/papers/1569556475.pdf\n",
    "\n",
    "http://cmmr2012.eecs.qmul.ac.uk/sites/cmmr2012.eecs.qmul.ac.uk/files/pdf/papers/cmmr2012_submission_19.pdf\n",
    "\n",
    "Master thesis: http://mtg.upf.edu/system/files/publications/Van-Balen-Jan-Master-thesis-2011_1.pdf"
   ]
  },
  {
   "cell_type": "code",
   "execution_count": 18,
   "id": "36eaf21d-a1d6-4bad-a0bc-19f714e96f5e",
   "metadata": {},
   "outputs": [],
   "source": [
    "import numpy as np\n",
    "import librosa\n",
    "from matplotlib import pyplot as plt\n",
    "import os\n",
    "from scipy import signal\n",
    "from scipy.fft import fft, fftshift, fftfreq"
   ]
  },
  {
   "cell_type": "code",
   "execution_count": 15,
   "id": "3d1a85df",
   "metadata": {},
   "outputs": [],
   "source": [
    "file_1 = \"WakaWaka-Shakira.wav\"\n",
    "file_2 = \"ZaminaWakaWaka.wav\"\n",
    "directory = \"\"\n",
    "audio_1, sample_rate = librosa.load(os.path.join(directory, file_1))\n",
    "audio_2, _ = librosa.load(os.path.join(directory, file_2), sr=sample_rate)"
   ]
  },
  {
   "cell_type": "code",
   "execution_count": null,
   "id": "c2ee9edf-d386-463d-be0b-9c343110957d",
   "metadata": {},
   "outputs": [],
   "source": [
    "def load_audio(file, directory=\"\"):\n",
    "    audio, sample_rate = librosa.load(os.path.join(directory, file))\n",
    "    duration = librosa.get_duration(y=audio, sr=sample_rate)\n",
    "    return audio, sample_rate, duration"
   ]
  },
  {
   "cell_type": "code",
   "execution_count": 52,
   "id": "46722718-4119-492a-a3c3-ba238790a66e",
   "metadata": {},
   "outputs": [],
   "source": [
    "def get_stft(query, sample_rate, size_fft=8192, duration_ms=50, hopsize_ms=10):\n",
    "    ## Compute its dB magnitude short-time Fourier transform\n",
    "    window_len = int(duration_ms*sample_rate*1e-3) #Hann windows of duration 50 ms\n",
    "    hopsize_len = int(hopsize_ms*sample_rate*1e-3) #window hopsize of 10 ms\n",
    "    zeropadding_len = window_len * 4 #zeropadding to four times the length of the window\n",
    "\n",
    "    ## zeropadding the signal\n",
    "    query = np.lib.pad(query, (int(zeropadding_len/2),int(zeropadding_len/2)), 'constant', constant_values=(0, 0))\n",
    "\n",
    "    stft_f, stft_t, stft_amp = signal.stft(query, sample_rate, nperseg=window_len, noverlap=window_len-hopsize_len, nfft=size_fft, boundary=None)\n",
    "    stft_db = librosa.amplitude_to_db(np.abs(stft_amp))\n",
    "    return stft_f, stft_t, stft_amp, stft_db"
   ]
  },
  {
   "cell_type": "code",
   "execution_count": 49,
   "id": "3b3e1c5f-953d-4606-96bc-a25a3239d64a",
   "metadata": {},
   "outputs": [],
   "source": [
    "def get_anchors(stft_f, stft_t, stft_db, sample_rate, nband=25, delta_t=0.1):\n",
    "    import math\n",
    "    duration = stft_t[-1] - stft_t[0]\n",
    "    step_t = math.ceil(len(stft_t) / duration * delta_t)\n",
    "    step_f = math.ceil(len(stft_f) / nband)\n",
    "    nband_time = math.ceil(len(stft_t)/step_t)\n",
    "    \n",
    "    # subindexing and finding max\n",
    "    anchors = []\n",
    "    for i in range(nband):\n",
    "        for j in range(nband_time):\n",
    "            box = stft_db[i * step_f : (i + 1) * step_f, j * step_t : (j + 1) * step_t]\n",
    "            max_idx = np.where(box == np.max(box))\n",
    "            anchors.append((max_idx[1][0] + j * step_t, max_idx[0][0] + i * step_f))\n",
    "            \n",
    "    return np.array(anchors)"
   ]
  },
  {
   "cell_type": "code",
   "execution_count": null,
   "id": "31f51ed2-b4dd-422f-a1cc-4d00cf13033c",
   "metadata": {},
   "outputs": [],
   "source": [
    "def get_fingerprints(stft_f, stft_t, anchors):\n",
    "    #values from indexes\n",
    "    max_time = stft_t[anchors[:, 0]]\n",
    "    max_frequencies = stft_f[anchors[:, 1]]\n",
    "    \n",
    "    hash_set = []\n",
    "    fingerprint_set = []\n",
    "    for anchor in anchors:\n",
    "        freq_i, time_i =  anchor\n",
    "        #time and frequency in base anchor\n",
    "        time = t[time_i]\n",
    "        freq = f[freq_i]\n",
    "        zone_t = np.where(np.logical_and(max_time>=time+0.1, max_time<=time+0.6))\n",
    "        zone_f = np.where(np.logical_and(max_frequencies>=freq*2**-0.5, max_frequencies<=freq*2**0.5))\n",
    "        zone = np.intersect1d(zone_t, zone_f)\n",
    "        for i in zone:\n",
    "            delta_t = max_time[i] - time\n",
    "            f2 = max_frequencies[i]\n",
    "            hash_i = (freq, f2, delta_t)\n",
    "            hash_set.append(hash_i)\n",
    "            fingerprint_set.append((time, hash_i))\n",
    "\n",
    "    return tuple(fingerprint_set)"
   ]
  },
  {
   "cell_type": "code",
   "execution_count": null,
   "id": "02b8691f-13b0-4ec7-9c56-06b3b5d5173a",
   "metadata": {},
   "outputs": [],
   "source": [
    "def get_matches(fingerprint_d, fingerprint_q, eps=1e-5):\n",
    "    matches = set()\n",
    "    for fd_i in fingerprint_d:\n",
    "        for fq_i in fingerprint_q:\n",
    "            if (fd_i[0], fq_i[0]) in matches: continue\n",
    "            h1 = fd_i[1]\n",
    "            h2 = fq_i[1]\n",
    "            # matching\n",
    "            d = abs(h1[0] - h2[0])\n",
    "            if d > eps: continue # saves a lot of time!!\n",
    "            d += abs(h1[1] - h2[1])\n",
    "            if d > eps: continue\n",
    "            d += abs(h1[2] - h1[2])\n",
    "            if d <= eps: matches.add((fd_i[0], fq_i[0]))\n",
    "            \n",
    "    return matches"
   ]
  },
  {
   "cell_type": "code",
   "execution_count": null,
   "id": "4b5a1988-e16b-4085-af45-a52a0f5117a8",
   "metadata": {},
   "outputs": [],
   "source": []
  }
 ],
 "metadata": {
  "kernelspec": {
   "display_name": "Python 3 (ipykernel)",
   "language": "python",
   "name": "python3"
  },
  "language_info": {
   "codemirror_mode": {
    "name": "ipython",
    "version": 3
   },
   "file_extension": ".py",
   "mimetype": "text/x-python",
   "name": "python",
   "nbconvert_exporter": "python",
   "pygments_lexer": "ipython3",
   "version": "3.8.10"
  }
 },
 "nbformat": 4,
 "nbformat_minor": 5
}
