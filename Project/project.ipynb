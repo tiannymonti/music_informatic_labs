{
 "cells": [
  {
   "cell_type": "markdown",
   "id": "a901b814",
   "metadata": {},
   "source": [
    "# Project\n",
    "\n",
    "## General idea:\n",
    "Given two songs, an original and a sampled one, we can find what has been taken and where it has been placed.\n",
    "\n",
    "## Method:\n",
    "Fingerprint: split music into 1-second segments. find matches among pairs of segments.\n",
    "\n",
    "### Part 1 \n",
    "- Convert any wav to samples\n",
    "- Delimit music features to use ()\n",
    "\n",
    "### Part 2\n",
    "- Compare music features between songs\n",
    "- Check where in the song features are similar (timestamps)\n",
    "\n",
    "Methods: audio matching with fingerprints? DTW?\n",
    "\n",
    "### Part 3\n",
    "- Automation, make functions to repeat this with any song\n",
    "\n",
    "### References\n",
    "\n",
    "http://www.eurasip.org/Proceedings/Eusipco/Eusipco2012/Conference/papers/1569556475.pdf\n",
    "\n",
    "http://cmmr2012.eecs.qmul.ac.uk/sites/cmmr2012.eecs.qmul.ac.uk/files/pdf/papers/cmmr2012_submission_19.pdf\n",
    "\n",
    "Master thesis: http://mtg.upf.edu/system/files/publications/Van-Balen-Jan-Master-thesis-2011_1.pdf"
   ]
  },
  {
   "cell_type": "markdown",
   "id": "4bd71c21-aaba-495b-8e41-9b7a09bcb7d1",
   "metadata": {},
   "source": [
    "---\n"
   ]
  },
  {
   "cell_type": "markdown",
   "id": "7c0de56b-8960-468f-a5de-a107378295ee",
   "metadata": {},
   "source": [
    "# Results\n",
    "\n",
    "Sampled song - original\n",
    "\n",
    "1. concalma_daddyyankeesnow - informer_snow:\n",
    "    - raw: perfect\n",
    "    - noise: fragments have the same rhythm, but not sounded alike in general\n",
    "    - tempo: no. warping path is almost vertical\n",
    "\n",
    "2. pumpit - misirlou:\n",
    "    - raw: perfect\n",
    "    - noise: got the same results as the raw song\n",
    "    - tempo: Doesn't work at all after changing the tempo. found a 2-second fragment from the original song that sounded not relevant at all\n",
    "\n",
    "3. iceicebaby - underpressure_queen: nothing at all\n",
    "\n",
    "4. bootylicious - edgeofseventeen: nothing at all\n",
    "\n",
    "5. hungup - gimmegimmegimme\n",
    "    - raw: perfect\n",
    "    - noise: got the same results as the raw song\n",
    "    - tempo: no. warping path is almost vertical\n",
    "    \n",
    "6. WakaWaka-Shakira - ZaminaWakaWaka\n",
    "    - raw: it didn't really found the sample in the sampled song. But it found the correct one in the original (wakawaka eh eh part). two fragments share the same rhythm though\n",
    "    - noise: same as above\n",
    "    - tempo: weirdly, it worked perfectly. check the following:\n",
    "\n",
    "        **IMPORTANT INFO!!** The algorithm didn't work very well for this two songs BUT after slowing down, it found the exact fragment that uses the sample. \n",
    "\n",
    "        My guess: Shakira's wakawaka is faster than the original song, so after manipulating the speed it gets closer to the original. It means that our algorithm is vulnerable to tempo variations of the sample. The tempo of two songs must be pretty close for our algorithm to work. That explains to an extent why it does not work at times.\n",
    "\n",
    "        Furthermore! What we could do is to manually make the two songs be in the same tempo (beat tracking+change them to equal) and then do the rest.\n",
    "\n",
    "        Maybe we should look up some more articles about how to deal with tempo changes. (cover detection has the same problem)\n",
    "\n",
    "        found one: http://www.iro.umontreal.ca/~pift6080/H09/documents/papers/EllisP07-coversongs.pdf\n",
    "        Basically it extracts one chroma feature sequence per beat. So first beat tracking+chroma feature extraction (or CENS in our case?). And then do DTW on each pair of feature sequences. It seems to require a lot of computation though. For us we can \n",
    "        \n"
   ]
  }
 ],
 "metadata": {
  "kernelspec": {
   "display_name": "Python 3 (ipykernel)",
   "language": "python",
   "name": "python3"
  },
  "language_info": {
   "codemirror_mode": {
    "name": "ipython",
    "version": 3
   },
   "file_extension": ".py",
   "mimetype": "text/x-python",
   "name": "python",
   "nbconvert_exporter": "python",
   "pygments_lexer": "ipython3",
   "version": "3.8.10"
  }
 },
 "nbformat": 4,
 "nbformat_minor": 5
}
