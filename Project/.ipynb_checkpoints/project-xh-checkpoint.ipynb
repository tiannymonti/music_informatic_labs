{
 "cells": [
  {
   "cell_type": "markdown",
   "id": "a901b814",
   "metadata": {},
   "source": [
    "# Project\n",
    "\n",
    "## General idea:\n",
    "Given two songs, an original and a sampled one, we can find what has been taken and where it has been placed.\n",
    "\n",
    "## Method:\n",
    "Fingerprint: split music into 1-second segments. find matches among pairs of segments.\n",
    "\n",
    "### Part 1 \n",
    "- Convert any wav to samples\n",
    "- Delimit music features to use ()\n",
    "\n",
    "### Part 2\n",
    "- Compare music features between songs\n",
    "- Check where in the song features are similar (timestamps)\n",
    "\n",
    "Methods: audio matching with fingerprints? DTW?\n",
    "\n",
    "### Part 3\n",
    "- Automation, make functions to repeat this with any song\n",
    "\n",
    "### References\n",
    "\n",
    "http://www.eurasip.org/Proceedings/Eusipco/Eusipco2012/Conference/papers/1569556475.pdf\n",
    "\n",
    "http://cmmr2012.eecs.qmul.ac.uk/sites/cmmr2012.eecs.qmul.ac.uk/files/pdf/papers/cmmr2012_submission_19.pdf\n",
    "\n",
    "Master thesis: http://mtg.upf.edu/system/files/publications/Van-Balen-Jan-Master-thesis-2011_1.pdf"
   ]
  },
  {
   "cell_type": "code",
   "execution_count": 3,
   "id": "36eaf21d-a1d6-4bad-a0bc-19f714e96f5e",
   "metadata": {},
   "outputs": [],
   "source": [
    "import numpy as np\n",
    "import librosa\n",
    "from matplotlib import pyplot as plt\n",
    "import os\n",
    "from scipy import signal\n",
    "from scipy.fft import fft, fftshift, fftfreq\n",
    "\n",
    "params = {'legend.fontsize': 'x-large',\n",
    "          'figure.figsize': (15, 5),\n",
    "         'axes.labelsize': 'x-large',\n",
    "         'axes.titlesize':'x-large',\n",
    "         'xtick.labelsize':'x-large',\n",
    "         'ytick.labelsize':'x-large'}\n",
    "plt.rcParams.update(params)"
   ]
  },
  {
   "cell_type": "code",
   "execution_count": 8,
   "id": "3d1a85df",
   "metadata": {},
   "outputs": [],
   "source": [
    "file_1 = \"concalma_daddyyankeesnow.wav\"\n",
    "file_2 = \"informer_snow.wav\"\n",
    "# file_1 = \"WakaWaka-Shakira.wav\"\n",
    "# file_2 = \"informer_snow.wav\"\n",
    "directory = \"\""
   ]
  },
  {
   "cell_type": "code",
   "execution_count": 5,
   "id": "0ec0d3da-5b6e-4e12-a684-dcb500854e5e",
   "metadata": {},
   "outputs": [],
   "source": [
    "class Audio_fingerprint:\n",
    "\n",
    "    def __init__(self, file, directory=\"\"):\n",
    "        self.filename = file\n",
    "        self.original_audio, self.sample_rate = librosa.load(os.path.join(directory, file))\n",
    "        self.number_samples = self.sample_rate * 60\n",
    "        self.audio = self.original_audio[:self.number_samples]\n",
    "        self.duration = librosa.get_duration(y=self.audio, sr=self.sample_rate)\n",
    "        self.set_fingerprints()\n",
    "        \n",
    "    def stft(self, size_fft=8192, duration_ms=100, hopsize_ms=50):\n",
    "        ## Compute its dB magnitude short-time Fourier transform\n",
    "        window_len = int(duration_ms*self.sample_rate*1e-3) # Hann windows of duration 50 ms\n",
    "        hopsize_len = int(hopsize_ms*self.sample_rate*1e-3) # window hopsize of 10 ms\n",
    "        zeropadding_len = window_len * 4 # zeropadding to four times the length of the window\n",
    "\n",
    "        ## zeropadding the signal\n",
    "        audio_zp = np.lib.pad(self.audio, (int(zeropadding_len/2),int(zeropadding_len/2)), 'constant', constant_values=(0, 0))\n",
    "\n",
    "        stft_f, stft_t, stft_amp = signal.stft(audio_zp, self.sample_rate, nperseg=window_len, noverlap=window_len-hopsize_len, nfft=size_fft, boundary=None)\n",
    "        stft_db = librosa.amplitude_to_db(np.abs(stft_amp))\n",
    "        \n",
    "        self.stft_f, self.stft_t, self.stft_amp, self.stft_db = stft_f, stft_t, stft_amp, stft_db\n",
    "        print(f\"File {self.filename} STFT completed.\")\n",
    "        # return stft_f, stft_t, stft_amp, stft_db\n",
    "    \n",
    "    def set_anchors(self, nband=20, delta_t=0.5):\n",
    "        import math\n",
    "        self.stft()\n",
    "        duration = self.stft_t[-1] - self.stft_t[0]\n",
    "        step_t = math.ceil(len(self.stft_t) / duration * delta_t)\n",
    "        step_f = math.ceil(len(self.stft_f) / nband)\n",
    "        nband_time = math.ceil(len(self.stft_t)/step_t)\n",
    "\n",
    "        # subindexing and finding max\n",
    "        anchors = []\n",
    "        for i in range(nband):\n",
    "            for j in range(nband_time):\n",
    "                box = self.stft_db[i * step_f : (i + 1) * step_f, j * step_t : (j + 1) * step_t]\n",
    "                max_idx = np.where(box == np.max(box))\n",
    "                anchors.append((max_idx[1][0] + j * step_t, max_idx[0][0] + i * step_f))\n",
    "                \n",
    "        self.anchors = np.array(anchors)\n",
    "        print(f\"File {self.filename} anchors calulated.\")\n",
    "        # return np.array(anchors)\n",
    "    \n",
    "    def set_fingerprints(self):\n",
    "        self.set_anchors()\n",
    "        #values from indexes\n",
    "        max_time = self.stft_t[self.anchors[:, 0]]\n",
    "        max_frequencies = self.stft_f[self.anchors[:, 1]]\n",
    "\n",
    "        hash_set = []\n",
    "        fingerprint_set = []\n",
    "        for anchor in self.anchors:\n",
    "            time_i, freq_i = anchor\n",
    "            #time and frequency in base anchor\n",
    "            time = self.stft_t[time_i]\n",
    "            freq = self.stft_f[freq_i]\n",
    "            zone_t = np.where(np.logical_and(max_time>=time+0.1, max_time<=time+0.6))\n",
    "            zone_f = np.where(np.logical_and(max_frequencies>=freq*2**-0.5, max_frequencies<=freq*2**0.5))\n",
    "            zone = np.intersect1d(zone_t, zone_f)\n",
    "            for i in zone:\n",
    "                delta_t = max_time[i] - time\n",
    "                f2 = max_frequencies[i]\n",
    "                hash_i = (freq, f2, delta_t)\n",
    "                hash_set.append(hash_i)\n",
    "                fingerprint_set.append((time, hash_i))\n",
    "                \n",
    "        self.fingerprint_set = tuple(fingerprint_set)\n",
    "        print(f\"File {self.filename} fingerprints calculated.\")\n",
    "        # return tuple(fingerprint_set)\n",
    "        \n",
    "    def match(self, fingerprint_q, eps=1e-5):\n",
    "        matches = set()\n",
    "        for fd_i in self.fingerprint_set:\n",
    "            for fq_i in fingerprint_q:\n",
    "                if (fd_i[0], fq_i[0]) in matches: continue\n",
    "                h1 = fd_i[1]\n",
    "                h2 = fq_i[1]\n",
    "                # matching\n",
    "                d = abs(h1[0] - h2[0])\n",
    "                if d > eps: continue # saves a lot of time!!\n",
    "                d += abs(h1[1] - h2[1])\n",
    "                if d > eps: continue\n",
    "                d += abs(h1[2] - h1[2])\n",
    "                if d <= eps: \n",
    "                    matches.add((fd_i[0], fq_i[0]))\n",
    "\n",
    "        return matches\n",
    "    \n",
    "    def segment(self, start=0.0, duration=1.0):\n",
    "        fingerprint_segment = []\n",
    "        for fgp in self.fingerprint_set:\n",
    "            time = fgp[0]\n",
    "            if start <= time <= start+duration:\n",
    "                fingerprint_segment.append(fgp)\n",
    "\n",
    "        return tuple(fingerprint_segment)\n",
    "    \n",
    "    def make_queries(self, duration=1.0, hop=0.2):\n",
    "        self.queries = {}\n",
    "        t = 0.0\n",
    "        while(t < self.stft_t[-1]):\n",
    "            queries[t] = self.segment(t, t+duration)\n",
    "            t += hop\n",
    "        # return queries"
   ]
  },
  {
   "cell_type": "code",
   "execution_count": 9,
   "id": "bd6f757a-284f-46f6-ab64-fcc701b6e778",
   "metadata": {},
   "outputs": [
    {
     "name": "stdout",
     "output_type": "stream",
     "text": [
      "File concalma_daddyyankeesnow.wav STFT completed.\n",
      "File concalma_daddyyankeesnow.wav anchors calulated.\n",
      "File concalma_daddyyankeesnow.wav fingerprints calculated.\n"
     ]
    }
   ],
   "source": [
    "x = Audio_fingerprint(file_1)"
   ]
  },
  {
   "cell_type": "code",
   "execution_count": 10,
   "id": "d0f7f24d-0601-4cb0-9629-d6da175450cf",
   "metadata": {},
   "outputs": [
    {
     "name": "stdout",
     "output_type": "stream",
     "text": [
      "File informer_snow.wav STFT completed.\n",
      "File informer_snow.wav anchors calulated.\n",
      "File informer_snow.wav fingerprints calculated.\n"
     ]
    }
   ],
   "source": [
    "y = Audio_fingerprint(file_2)"
   ]
  },
  {
   "cell_type": "code",
   "execution_count": 13,
   "id": "8d4053c2-b50e-4244-aaa0-dfde5bc74f28",
   "metadata": {},
   "outputs": [],
   "source": [
    "def compute_cost_matrix(X, Y, metric='euclidean'):\n",
    "    \"\"\"Compute the cost matrix of two feature sequences\n",
    "\n",
    "    Notebook: C3/C3S2_DTWbasic.ipynb\n",
    "\n",
    "    Args:\n",
    "        X (np.ndarray): Sequence 1\n",
    "        Y (np.ndarray): Sequence 2\n",
    "        metric (str): Cost metric, a valid strings for scipy.spatial.distance.cdist (Default value = 'euclidean')\n",
    "\n",
    "    Returns:\n",
    "        C (np.ndarray): Cost matrix\n",
    "    \"\"\"\n",
    "    from scipy import spatial\n",
    "    X, Y = np.atleast_2d(X, Y)\n",
    "    C = spatial.distance.cdist(X.T, Y.T, metric=metric)\n",
    "    return C"
   ]
  },
  {
   "cell_type": "code",
   "execution_count": 28,
   "id": "531ca284-7d87-4554-91fd-bf07f80ea287",
   "metadata": {},
   "outputs": [],
   "source": [
    "import libfmp.c3\n",
    "import libfmp.c7"
   ]
  },
  {
   "cell_type": "code",
   "execution_count": 31,
   "id": "d41df506-e21f-48d5-b6f9-172abb9061d8",
   "metadata": {},
   "outputs": [],
   "source": [
    "def DTW_cost_matrix(x1, x2, ell=21, d=5):\n",
    "    N_feat = 4410\n",
    "    H_feat = 2205\n",
    "    # ell: smoothing size\n",
    "    # d: downsample rate\n",
    "    C1 = librosa.feature.chroma_stft(y=x1.original_audio, sr=x1.sample_rate, tuning=0, norm=None, hop_length=H_feat, n_fft=N_feat) # 12 chroma bins * time frames with frame size = hopsize / Fs\n",
    "    C2 = librosa.feature.chroma_stft(y=x2.original_audio, sr=x2.sample_rate, tuning=0, norm=None, hop_length=H_feat, n_fft=N_feat)\n",
    "    \n",
    "    X, Fs_cens = libfmp.c7.compute_cens_from_chromagram(C1, ell=ell, d=d)\n",
    "    Y, Fs_cens = libfmp.c7.compute_cens_from_chromagram(C2, ell=ell, d=d)\n",
    "    N, M = X.shape[1], Y.shape[1]\n",
    "    \n",
    "    C_FMP = libfmp.c3.compute_cost_matrix(X, Y, 'euclidean')\n",
    "    return C_FMP"
   ]
  },
  {
   "cell_type": "code",
   "execution_count": 33,
   "id": "07a28aaf-9ad8-44c1-b357-1fbe6a2b1d50",
   "metadata": {},
   "outputs": [],
   "source": [
    "C = DTW_cost_matrix(x, y, ell=21, d=5)"
   ]
  },
  {
   "cell_type": "code",
   "execution_count": 34,
   "id": "f02f5cc1-1fa1-4435-ad81-4c8588605a3f",
   "metadata": {},
   "outputs": [
    {
     "data": {
      "text/plain": [
       "0.09563495700774109"
      ]
     },
     "execution_count": 34,
     "metadata": {},
     "output_type": "execute_result"
    }
   ],
   "source": [
    "np.min(C)"
   ]
  },
  {
   "cell_type": "code",
   "execution_count": 37,
   "id": "efc5cc1f-c728-43ef-8642-56c957c75552",
   "metadata": {},
   "outputs": [
    {
     "data": {
      "text/plain": [
       "(387, 538)"
      ]
     },
     "execution_count": 37,
     "metadata": {},
     "output_type": "execute_result"
    }
   ],
   "source": [
    "C.shape"
   ]
  },
  {
   "cell_type": "code",
   "execution_count": 41,
   "id": "551d3b16-e255-4347-b602-bbc6de9df781",
   "metadata": {},
   "outputs": [
    {
     "name": "stdout",
     "output_type": "stream",
     "text": [
      "37.0 38.0\n"
     ]
    }
   ],
   "source": [
    "N_feat = 4410\n",
    "H_feat = 2205\n",
    "t1 = np.where(C==np.min(C))[0][0]*5*H_feat/x.sample_rate\n",
    "t2 = np.where(C==np.min(C))[1][0]*5*H_feat/x.sample_rate\n",
    "print(t1, t2)"
   ]
  },
  {
   "cell_type": "code",
   "execution_count": 19,
   "id": "7344be5c",
   "metadata": {},
   "outputs": [],
   "source": [
    "#get one second of the sampled song\n",
    "number_samples_onesec = x.sample_rate * 1\n",
    "x_second_1 = x.original_audio[0:number_samples_onesec]\n",
    "\n",
    "number_samples_before = y.sample_rate * 30\n",
    "number_samples_after = y.sample_rate * 31\n",
    "y_second_30 = y.original_audio[number_samples_before:number_samples_after]\n"
   ]
  },
  {
   "cell_type": "code",
   "execution_count": 20,
   "id": "ca69867e",
   "metadata": {},
   "outputs": [],
   "source": [
    "from dtaidistance import dtw\n",
    "\n",
    "distances = dtw.distance_fast(y_second_30.astype('double'), y.audio.astype('double'))\n"
   ]
  },
  {
   "cell_type": "code",
   "execution_count": 21,
   "id": "7a79f21a",
   "metadata": {},
   "outputs": [
    {
     "name": "stdout",
     "output_type": "stream",
     "text": [
      "130.71195348258757\n"
     ]
    }
   ],
   "source": [
    "print(distances)"
   ]
  },
  {
   "cell_type": "code",
   "execution_count": 17,
   "id": "aed2a7c3",
   "metadata": {},
   "outputs": [],
   "source": [
    "distances1 = dtw.distance_fast(x_second_1.astype('double'), y.audio.astype('double'))\n"
   ]
  },
  {
   "cell_type": "code",
   "execution_count": 18,
   "id": "52f80222",
   "metadata": {},
   "outputs": [
    {
     "name": "stdout",
     "output_type": "stream",
     "text": [
      "158.8090433479043\n"
     ]
    }
   ],
   "source": [
    "print(distances1)"
   ]
  },
  {
   "cell_type": "code",
   "execution_count": 27,
   "id": "897688a0",
   "metadata": {},
   "outputs": [],
   "source": [
    "x_seconds = np.array_split(x.audio, 60)\n",
    "distances = []"
   ]
  },
  {
   "cell_type": "code",
   "execution_count": 28,
   "id": "eed82a19",
   "metadata": {},
   "outputs": [
    {
     "name": "stdout",
     "output_type": "stream",
     "text": [
      "0\n",
      "1\n",
      "2\n",
      "3\n",
      "4\n",
      "5\n",
      "6\n",
      "7\n",
      "8\n",
      "9\n",
      "10\n",
      "11\n",
      "12\n",
      "13\n",
      "14\n",
      "15\n",
      "16\n",
      "17\n",
      "18\n",
      "19\n",
      "20\n",
      "21\n",
      "22\n",
      "23\n",
      "24\n",
      "25\n",
      "26\n",
      "27\n",
      "28\n",
      "29\n",
      "30\n",
      "31\n",
      "32\n",
      "33\n",
      "34\n",
      "35\n",
      "36\n",
      "37\n",
      "38\n",
      "39\n",
      "40\n",
      "41\n",
      "42\n",
      "43\n",
      "44\n",
      "45\n",
      "46\n",
      "47\n",
      "48\n",
      "49\n",
      "50\n",
      "51\n",
      "52\n",
      "53\n",
      "54\n",
      "55\n",
      "56\n",
      "57\n",
      "58\n",
      "59\n"
     ]
    }
   ],
   "source": [
    "for i in range(len(x_seconds)):\n",
    "    print(i)\n",
    "    distance = dtw.distance_fast(x_seconds[i].astype('double'), y.audio.astype('double'))\n",
    "    distances.append(distance)"
   ]
  },
  {
   "cell_type": "code",
   "execution_count": 29,
   "id": "3fdd81c8",
   "metadata": {},
   "outputs": [
    {
     "name": "stdout",
     "output_type": "stream",
     "text": [
      "[158.8090433479043, 151.84784815835985, 150.868678942268, 151.69639567714728, 146.81315594833296, 145.77761292832008, 151.21090938957948, 148.62746136979965, 146.65845866362412, 149.68272739614326, 135.06221419784802, 141.86971308705546, 145.42821949721446, 141.60761926139713, 142.60830448256894, 142.9939477790767, 143.49499299186576, 146.59512892376245, 142.5502008760467, 140.9348670829606, 151.9656671026756, 137.6609087351911, 137.10114867159496, 139.51780678100877, 137.13309195147204, 138.92009423698195, 137.08672743969825, 138.0714677549287, 139.25068148857008, 136.51902277636083, 126.99294985815554, 141.73526000902834, 141.83013639390802, 139.46029977099803, 140.19773356667358, 136.2843672545979, 140.24730034337256, 143.2741321363078, 140.90836747748682, 137.8984364974051, 140.41611690948218, 139.73167939378425, 141.84014418413287, 137.9137012718867, 138.80108858929566, 140.2582188167758, 144.51650507850528, 143.12675191895352, 143.7667371175437, 138.2623602349118, 143.95268569489193, 136.80548405720612, 141.795806260888, 139.1910719264273, 140.35530712968665, 139.5393049933414, 134.22038087232644, 139.79903960750502, 140.66404257675984, 141.7484678972606]\n"
     ]
    }
   ],
   "source": [
    "print(distances)"
   ]
  },
  {
   "cell_type": "code",
   "execution_count": 1,
   "id": "e33e97e5",
   "metadata": {},
   "outputs": [
    {
     "ename": "NameError",
     "evalue": "name 'plt' is not defined",
     "output_type": "error",
     "traceback": [
      "\u001b[1;31m---------------------------------------------------------------------------\u001b[0m",
      "\u001b[1;31mNameError\u001b[0m                                 Traceback (most recent call last)",
      "\u001b[1;32m<ipython-input-1-392357943965>\u001b[0m in \u001b[0;36m<module>\u001b[1;34m\u001b[0m\n\u001b[1;32m----> 1\u001b[1;33m \u001b[0mfig\u001b[0m\u001b[1;33m,\u001b[0m \u001b[0max\u001b[0m \u001b[1;33m=\u001b[0m \u001b[0mplt\u001b[0m\u001b[1;33m.\u001b[0m\u001b[0msubplots\u001b[0m\u001b[1;33m(\u001b[0m\u001b[0mfigsize\u001b[0m\u001b[1;33m=\u001b[0m\u001b[1;33m(\u001b[0m\u001b[1;36m15\u001b[0m\u001b[1;33m,\u001b[0m\u001b[1;36m5\u001b[0m\u001b[1;33m)\u001b[0m\u001b[1;33m)\u001b[0m\u001b[1;33m\u001b[0m\u001b[1;33m\u001b[0m\u001b[0m\n\u001b[0m\u001b[0;32m      2\u001b[0m \u001b[0max\u001b[0m\u001b[1;33m.\u001b[0m\u001b[0mplot\u001b[0m\u001b[1;33m(\u001b[0m\u001b[0mdistances\u001b[0m\u001b[1;33m)\u001b[0m\u001b[1;33m\u001b[0m\u001b[1;33m\u001b[0m\u001b[0m\n\u001b[0;32m      3\u001b[0m \u001b[0max\u001b[0m\u001b[1;33m.\u001b[0m\u001b[0mset_xlabel\u001b[0m\u001b[1;33m(\u001b[0m\u001b[1;34m\"Time (s)\"\u001b[0m\u001b[1;33m)\u001b[0m\u001b[1;33m\u001b[0m\u001b[1;33m\u001b[0m\u001b[0m\n\u001b[0;32m      4\u001b[0m \u001b[0max\u001b[0m\u001b[1;33m.\u001b[0m\u001b[0mset_ylabel\u001b[0m\u001b[1;33m(\u001b[0m\u001b[1;34m\"Distance\"\u001b[0m\u001b[1;33m)\u001b[0m\u001b[1;33m\u001b[0m\u001b[1;33m\u001b[0m\u001b[0m\n\u001b[0;32m      5\u001b[0m \u001b[1;31m#ax.scatter(min_idx, np.min(distances), color='r')\u001b[0m\u001b[1;33m\u001b[0m\u001b[1;33m\u001b[0m\u001b[1;33m\u001b[0m\u001b[0m\n",
      "\u001b[1;31mNameError\u001b[0m: name 'plt' is not defined"
     ]
    }
   ],
   "source": [
    "fig, ax = plt.subplots(figsize=(15,5))\n",
    "ax.plot(distances)\n",
    "ax.set_xlabel(\"Time (s)\")\n",
    "ax.set_ylabel(\"Distance\")\n",
    "#ax.scatter(min_idx, np.min(distances), color='r')"
   ]
  },
  {
   "cell_type": "code",
   "execution_count": null,
   "id": "7a9182b4",
   "metadata": {},
   "outputs": [],
   "source": []
  }
 ],
 "metadata": {
  "kernelspec": {
   "display_name": "Python 3",
   "language": "python",
   "name": "python3"
  },
  "language_info": {
   "codemirror_mode": {
    "name": "ipython",
    "version": 3
   },
   "file_extension": ".py",
   "mimetype": "text/x-python",
   "name": "python",
   "nbconvert_exporter": "python",
   "pygments_lexer": "ipython3",
   "version": "3.8.8"
  }
 },
 "nbformat": 4,
 "nbformat_minor": 5
}
