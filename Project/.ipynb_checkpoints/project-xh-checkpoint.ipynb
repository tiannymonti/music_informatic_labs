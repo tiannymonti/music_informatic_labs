{
 "cells": [
  {
   "cell_type": "markdown",
   "id": "a901b814",
   "metadata": {},
   "source": [
    "# Project\n",
    "\n",
    "## General idea:\n",
    "Given two songs, an original and a sampled one, we can find what has been taken and where it has been placed.\n",
    "\n",
    "## Method:\n",
    "Fingerprint: split music into 1-second segments. find matches among pairs of segments.\n",
    "\n",
    "### Part 1 \n",
    "- Convert any wav to samples\n",
    "- Delimit music features to use ()\n",
    "\n",
    "### Part 2\n",
    "- Compare music features between songs\n",
    "- Check where in the song features are similar (timestamps)\n",
    "\n",
    "Methods: audio matching with fingerprints? DTW?\n",
    "\n",
    "### Part 3\n",
    "- Automation, make functions to repeat this with any song\n",
    "\n",
    "### References\n",
    "\n",
    "http://www.eurasip.org/Proceedings/Eusipco/Eusipco2012/Conference/papers/1569556475.pdf\n",
    "\n",
    "http://cmmr2012.eecs.qmul.ac.uk/sites/cmmr2012.eecs.qmul.ac.uk/files/pdf/papers/cmmr2012_submission_19.pdf\n",
    "\n",
    "Master thesis: http://mtg.upf.edu/system/files/publications/Van-Balen-Jan-Master-thesis-2011_1.pdf"
   ]
  },
  {
   "cell_type": "code",
   "execution_count": 1,
   "id": "36eaf21d-a1d6-4bad-a0bc-19f714e96f5e",
   "metadata": {},
   "outputs": [],
   "source": [
    "import numpy as np\n",
    "import librosa\n",
    "from matplotlib import pyplot as plt\n",
    "import os\n",
    "from scipy import signal\n",
    "from scipy.fft import fft, fftshift, fftfreq"
   ]
  },
  {
   "cell_type": "code",
   "execution_count": 2,
   "id": "3d1a85df",
   "metadata": {},
   "outputs": [],
   "source": [
    "file_1 = \"concalma_daddyyankeesnow.wav\"\n",
    "file_2 = \"informer_snow.wav\"\n",
    "directory = \"\"\n",
    "# audio_1, sample_rate = librosa.load(os.path.join(directory, file_1))\n",
    "# audio_2, _ = librosa.load(os.path.join(directory, file_2), sr=sample_rate)"
   ]
  },
  {
   "cell_type": "code",
   "execution_count": 16,
   "id": "abae1e21-3368-4ac8-bdd8-e5430d9f7820",
   "metadata": {},
   "outputs": [],
   "source": [
    "class Audio_fingerprint:\n",
    "\n",
    "    def __init__(self, file, directory=\"\"):\n",
    "        self.filename = file\n",
    "        self.audio, self.sample_rate = librosa.load(os.path.join(directory, file))\n",
    "        self.duration = librosa.get_duration(y=self.audio, sr=self.sample_rate)\n",
    "        self.set_fingerprints()\n",
    "        \n",
    "    def stft(self, size_fft=8192, duration_ms=100, hopsize_ms=50):\n",
    "        ## Compute its dB magnitude short-time Fourier transform\n",
    "        window_len = int(duration_ms*self.sample_rate*1e-3) # Hann windows of duration 50 ms\n",
    "        hopsize_len = int(hopsize_ms*self.sample_rate*1e-3) # window hopsize of 10 ms\n",
    "        zeropadding_len = window_len * 4 # zeropadding to four times the length of the window\n",
    "\n",
    "        ## zeropadding the signal\n",
    "        audio_zp = np.lib.pad(self.audio, (int(zeropadding_len/2),int(zeropadding_len/2)), 'constant', constant_values=(0, 0))\n",
    "\n",
    "        stft_f, stft_t, stft_amp = signal.stft(audio_zp, self.sample_rate, nperseg=window_len, noverlap=window_len-hopsize_len, nfft=size_fft, boundary=None)\n",
    "        stft_db = librosa.amplitude_to_db(np.abs(stft_amp))\n",
    "        \n",
    "        self.stft_f, self.stft_t, self.stft_amp, self.stft_db = stft_f, stft_t, stft_amp, stft_db\n",
    "        print(f\"File {self.filename} STFT completed.\")\n",
    "        # return stft_f, stft_t, stft_amp, stft_db\n",
    "    \n",
    "    def set_anchors(self, nband=20, delta_t=0.5):\n",
    "        import math\n",
    "        self.stft()\n",
    "        duration = self.stft_t[-1] - self.stft_t[0]\n",
    "        step_t = math.ceil(len(self.stft_t) / duration * delta_t)\n",
    "        step_f = math.ceil(len(self.stft_f) / nband)\n",
    "        nband_time = math.ceil(len(self.stft_t)/step_t)\n",
    "\n",
    "        # subindexing and finding max\n",
    "        anchors = []\n",
    "        for i in range(nband):\n",
    "            for j in range(nband_time):\n",
    "                box = self.stft_db[i * step_f : (i + 1) * step_f, j * step_t : (j + 1) * step_t]\n",
    "                max_idx = np.where(box == np.max(box))\n",
    "                anchors.append((max_idx[1][0] + j * step_t, max_idx[0][0] + i * step_f))\n",
    "                \n",
    "        self.anchors = np.array(anchors)\n",
    "        print(f\"File {self.filename} anchors calulated.\")\n",
    "        # return np.array(anchors)\n",
    "    \n",
    "    def set_fingerprints(self):\n",
    "        self.set_anchors()\n",
    "        #values from indexes\n",
    "        max_time = self.stft_t[self.anchors[:, 0]]\n",
    "        max_frequencies = self.stft_f[self.anchors[:, 1]]\n",
    "\n",
    "        hash_set = []\n",
    "        fingerprint_set = []\n",
    "        for anchor in self.anchors:\n",
    "            time_i, freq_i = anchor\n",
    "            #time and frequency in base anchor\n",
    "            time = self.stft_t[time_i]\n",
    "            freq = self.stft_f[freq_i]\n",
    "            zone_t = np.where(np.logical_and(max_time>=time+0.1, max_time<=time+0.6))\n",
    "            zone_f = np.where(np.logical_and(max_frequencies>=freq*2**-0.5, max_frequencies<=freq*2**0.5))\n",
    "            zone = np.intersect1d(zone_t, zone_f)\n",
    "            for i in zone:\n",
    "                delta_t = max_time[i] - time\n",
    "                f2 = max_frequencies[i]\n",
    "                hash_i = (freq, f2, delta_t)\n",
    "                hash_set.append(hash_i)\n",
    "                fingerprint_set.append((time, hash_i))\n",
    "                \n",
    "        self.fingerprint_set = tuple(fingerprint_set)\n",
    "        print(f\"File {self.filename} fingerprints calculated.\")\n",
    "        # return tuple(fingerprint_set)\n",
    "        \n",
    "    def match(self, fingerprint_q, eps=1e-5):\n",
    "        matches = set()\n",
    "        for fd_i in self.fingerprint_set:\n",
    "            for fq_i in fingerprint_q:\n",
    "                if (fd_i[0], fq_i[0]) in matches: continue\n",
    "                h1 = fd_i[1]\n",
    "                h2 = fq_i[1]\n",
    "                # matching\n",
    "                d = abs(h1[0] - h2[0])\n",
    "                if d > eps: continue # saves a lot of time!!\n",
    "                d += abs(h1[1] - h2[1])\n",
    "                if d > eps: continue\n",
    "                d += abs(h1[2] - h1[2])\n",
    "                if d <= eps: \n",
    "                    matches.add((fd_i[0], fq_i[0]))\n",
    "\n",
    "        return matches\n",
    "    \n",
    "    def segment(self, start=0.0, duration=1.0):\n",
    "        fingerprint_segment = []\n",
    "        for fgp in self.fingerprint_set:\n",
    "            time = fgp[0]\n",
    "            if start <= time <= start+duration:\n",
    "                fingerprint_segment.append(fgp)\n",
    "\n",
    "        return tuple(fingerprint_segment)\n",
    "    \n",
    "    def make_queries(self, duration=1.0, hop=0.2):\n",
    "        self.queries = {}\n",
    "        t = 0.0\n",
    "        while(t < self.stft_t[-1]):\n",
    "            queries[t] = self.segment(t, t+duration)\n",
    "            t += hop\n",
    "        # return queries"
   ]
  },
  {
   "cell_type": "code",
   "execution_count": 17,
   "id": "bd6f757a-284f-46f6-ab64-fcc701b6e778",
   "metadata": {},
   "outputs": [
    {
     "name": "stdout",
     "output_type": "stream",
     "text": [
      "File concalma_daddyyankeesnow.wav STFT completed.\n",
      "File concalma_daddyyankeesnow.wav anchors calulated.\n",
      "File concalma_daddyyankeesnow.wav fingerprints calculated.\n"
     ]
    }
   ],
   "source": [
    "x = Audio_fingerprint(file_1)"
   ]
  },
  {
   "cell_type": "code",
   "execution_count": 18,
   "id": "d0f7f24d-0601-4cb0-9629-d6da175450cf",
   "metadata": {},
   "outputs": [
    {
     "name": "stdout",
     "output_type": "stream",
     "text": [
      "File informer_snow.wav STFT completed.\n",
      "File informer_snow.wav anchors calulated.\n",
      "File informer_snow.wav fingerprints calculated.\n"
     ]
    }
   ],
   "source": [
    "y = Audio_fingerprint(file_2)"
   ]
  },
  {
   "cell_type": "code",
   "execution_count": 25,
   "id": "0c384a89-7fb4-4df4-a7c2-1a60463ec4ed",
   "metadata": {},
   "outputs": [
    {
     "name": "stdout",
     "output_type": "stream",
     "text": [
      "30010 44929\n"
     ]
    }
   ],
   "source": [
    "import math\n",
    "\n",
    "len_x = len(x.fingerprint_set)\n",
    "len_y = len(y.fingerprint_set)\n",
    "\n",
    "##LETS SPLIT IN HALVES!!!\n",
    "first_half_x = x.fingerprint_set[:math.ceil(len_x/2)]\n",
    "second_half_x = x.fingerprint_set[math.ceil(len_x/2)+1:]\n",
    "first_half_y= y.fingerprint_set[:math.ceil(len_y/2)]\n",
    "second_half_y = y.fingerprint_set[math.ceil(len_y/2)+1:]\n",
    "\n",
    "#print(len_x, len_y)"
   ]
  },
  {
   "cell_type": "code",
   "execution_count": null,
   "id": "95bb8827",
   "metadata": {},
   "outputs": [],
   "source": [
    "##Parallelogram\n",
    "##little function\n",
    "def matching_small(fd_i, fq_i):\n",
    "    if (fd_i[0], fq_i[0]) in matches: return\n",
    "    h1 = fd_i[1]\n",
    "    h2 = fq_i[1]\n",
    "    # matching\n",
    "    d = abs(h1[0] - h2[0])\n",
    "    if d > eps: return # saves a lot of time!!\n",
    "    d += abs(h1[1] - h2[1])\n",
    "    if d > eps: return\n",
    "    d += abs(h1[2] - h1[2])\n",
    "    if d <= eps: \n",
    "        return (fd_i[0], fq_i[0])\n",
    "\n",
    "\n",
    "import multiprocessing as mp\n",
    "\n",
    "with mp.Pool() as p:\n",
    "    matches = p.imap(matching_small, [(i, j) for i in first_half_x for j in first_half_y])\n"
   ]
  },
  {
   "cell_type": "code",
   "execution_count": null,
   "id": "ec3a20e7",
   "metadata": {},
   "outputs": [],
   "source": []
  }
 ],
 "metadata": {
  "kernelspec": {
   "display_name": "Python 3",
   "language": "python",
   "name": "python3"
  },
  "language_info": {
   "codemirror_mode": {
    "name": "ipython",
    "version": 3
   },
   "file_extension": ".py",
   "mimetype": "text/x-python",
   "name": "python",
   "nbconvert_exporter": "python",
   "pygments_lexer": "ipython3",
   "version": "3.8.8"
  }
 },
 "nbformat": 4,
 "nbformat_minor": 5
}
